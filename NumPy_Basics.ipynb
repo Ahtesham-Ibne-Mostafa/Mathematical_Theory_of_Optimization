{
  "nbformat": 4,
  "nbformat_minor": 0,
  "metadata": {
    "colab": {
      "provenance": [],
      "include_colab_link": true
    },
    "kernelspec": {
      "name": "python3",
      "display_name": "Python 3"
    },
    "language_info": {
      "name": "python"
    }
  },
  "cells": [
    {
      "cell_type": "markdown",
      "metadata": {
        "id": "view-in-github",
        "colab_type": "text"
      },
      "source": [
        "<a href=\"https://colab.research.google.com/github/Ahtesham-Ibne-Mostafa/Mathematical_Theory_of_Optimization/blob/main/NumPy_Basics.ipynb\" target=\"_parent\"><img src=\"https://colab.research.google.com/assets/colab-badge.svg\" alt=\"Open In Colab\"/></a>"
      ]
    },
    {
      "cell_type": "markdown",
      "source": [
        "## Defining a vector"
      ],
      "metadata": {
        "id": "0x7mO6U3PDgz"
      }
    },
    {
      "cell_type": "markdown",
      "source": [
        "A vector is just a collection of variables or values arranged as a column matrix. For example,\n",
        "\n",
        "$\\bar{a}  = \\begin{bmatrix} 1 \\\\ 2 \\\\ 3 \\end{bmatrix}$ is a constant vector whereas $\\bar{x} = \\begin{bmatrix} x_1 \\\\ x_2 \\\\ x_3 \\end{bmatrix}$ is a variable vector.\n",
        "\n",
        "Now, lets see how we can define a constant vector in Python."
      ],
      "metadata": {
        "id": "jvLnVScAPM_V"
      }
    },
    {
      "cell_type": "code",
      "source": [
        "# We can define a constant vector using a Python list\n",
        "list_vec = [1, 2, 3]\n",
        "print(list_vec)"
      ],
      "metadata": {
        "id": "LKMG_DegR738",
        "colab": {
          "base_uri": "https://localhost:8080/"
        },
        "outputId": "bf6b1dcc-ac00-4541-edfd-c2558c96c7e4"
      },
      "execution_count": 1,
      "outputs": [
        {
          "output_type": "stream",
          "name": "stdout",
          "text": [
            "[1, 2, 3]\n"
          ]
        }
      ]
    },
    {
      "cell_type": "markdown",
      "source": [
        "The vector is currently a row vector unlike our studied column vectors. Its still okay as long as we adjust our functions.\n",
        "\n",
        "Now lets try multiplying our vector with a scalar -\n",
        "\n",
        "$\\lambda \\cdot \\bar{a}  = \\begin{bmatrix} \\lambda \\\\ 2\\lambda \\\\ 3\\lambda \\end{bmatrix}$"
      ],
      "metadata": {
        "id": "LvOyEEExSGSH"
      }
    },
    {
      "cell_type": "code",
      "source": [
        "scalar = 3\n",
        "\n",
        "direct_mul = scalar*list_vec\n",
        "print(\"Result for multiplying a vector defined as a list directly with a scalar - \\n\")\n",
        "print(direct_mul)\n",
        "\n",
        "proper_mul = [scalar*i for i in list_vec]\n",
        "print(\"\\nResult for multiplying a vector defined as a list with a scalar by iterating over each element - \\n\")\n",
        "print(proper_mul)"
      ],
      "metadata": {
        "id": "2G9D6_moUtqF",
        "colab": {
          "base_uri": "https://localhost:8080/"
        },
        "outputId": "014f3499-d365-438b-987c-bb2b015564f8"
      },
      "execution_count": 2,
      "outputs": [
        {
          "output_type": "stream",
          "name": "stdout",
          "text": [
            "Result for multiplying a vector defined as a list directly with a scalar - \n",
            "\n",
            "[1, 2, 3, 1, 2, 3, 1, 2, 3]\n",
            "\n",
            "Result for multiplying a vector defined as a list with a scalar by iterating over each element - \n",
            "\n",
            "[3, 6, 9]\n"
          ]
        }
      ]
    },
    {
      "cell_type": "markdown",
      "source": [
        "This is one of the problems with Python lists. Python lists are non-homogenous in nature. They allow you to store different types of objects together. As such, they require more memory to initiate and they do not support elementwise operations.\n",
        "\n",
        "Lets test one more case of adding two vectors -"
      ],
      "metadata": {
        "id": "1tnS6UEjVdUe"
      }
    },
    {
      "cell_type": "code",
      "source": [
        "a = [1, 2, 3]\n",
        "b = [4, 5, 6]\n",
        "\n",
        "print(\"Result of directly adding two list vectors - \\n\")\n",
        "print(a+b)\n",
        "\n",
        "print(\"\\nResult of adding two list vectors by iterating over each element - \\n\")\n",
        "print([a[i]+b[i] for i in range(len(a))])"
      ],
      "metadata": {
        "id": "1BJWhiVFeAcK",
        "colab": {
          "base_uri": "https://localhost:8080/"
        },
        "outputId": "25a75734-8f79-4852-bf04-9efd5c2e87f7"
      },
      "execution_count": 3,
      "outputs": [
        {
          "output_type": "stream",
          "name": "stdout",
          "text": [
            "Result of directly adding two list vectors - \n",
            "\n",
            "[1, 2, 3, 4, 5, 6]\n",
            "\n",
            "Result of adding two list vectors by iterating over each element - \n",
            "\n",
            "[5, 7, 9]\n"
          ]
        }
      ]
    },
    {
      "cell_type": "markdown",
      "source": [
        "Instead of making our lives hard using lists, we will use NumPy arrays instead. NumPy arrays provide WAY more functionalities compared to lists."
      ],
      "metadata": {
        "id": "hQm_6moQd7w8"
      }
    },
    {
      "cell_type": "code",
      "source": [
        "import numpy as np\n",
        "\n",
        "vec = np.array([1, 2, 3])\n",
        "print(vec)"
      ],
      "metadata": {
        "id": "72nXwbhoWprT",
        "colab": {
          "base_uri": "https://localhost:8080/"
        },
        "outputId": "47adbde1-6b97-4eee-9523-1bb1b423bdce"
      },
      "execution_count": 4,
      "outputs": [
        {
          "output_type": "stream",
          "name": "stdout",
          "text": [
            "[1 2 3]\n"
          ]
        }
      ]
    },
    {
      "cell_type": "markdown",
      "source": [
        "Now lets try multiplying the NumPy vector using a scalar and see the difference."
      ],
      "metadata": {
        "id": "KgmikJnhWuVS"
      }
    },
    {
      "cell_type": "code",
      "source": [
        "scalar = 3\n",
        "\n",
        "print(scalar*vec)"
      ],
      "metadata": {
        "id": "wDWfStXdW1hs",
        "colab": {
          "base_uri": "https://localhost:8080/"
        },
        "outputId": "bb932e93-e98d-4d9b-ed1c-d9dbb9c02f77"
      },
      "execution_count": 5,
      "outputs": [
        {
          "output_type": "stream",
          "name": "stdout",
          "text": [
            "[3 6 9]\n"
          ]
        }
      ]
    },
    {
      "cell_type": "markdown",
      "source": [
        "Its more natural compared to the list vector."
      ],
      "metadata": {
        "id": "zfWAc-6AXTzG"
      }
    },
    {
      "cell_type": "markdown",
      "source": [
        "Now lets try adding two NumPy vectors -"
      ],
      "metadata": {
        "id": "G4k4CApHetZ1"
      }
    },
    {
      "cell_type": "code",
      "source": [
        "a = np.array([1, 2, 3])\n",
        "b = np.array([4, 5, 6])\n",
        "\n",
        "print(a+b)"
      ],
      "metadata": {
        "id": "XZsQgUFTe0VE",
        "colab": {
          "base_uri": "https://localhost:8080/"
        },
        "outputId": "ec1dcf2d-48d3-4434-9d7f-dbefa7dfa7fb"
      },
      "execution_count": 6,
      "outputs": [
        {
          "output_type": "stream",
          "name": "stdout",
          "text": [
            "[5 7 9]\n"
          ]
        }
      ]
    },
    {
      "cell_type": "markdown",
      "source": [
        "With these basic operations covered, lets move on to more complex operations."
      ],
      "metadata": {
        "id": "kne24PdJe9qk"
      }
    },
    {
      "cell_type": "markdown",
      "source": [
        "## Vector inner product/ Dot product"
      ],
      "metadata": {
        "id": "vYh8_alsYAgk"
      }
    },
    {
      "cell_type": "markdown",
      "source": [
        "### Implementation"
      ],
      "metadata": {
        "id": "E1EISqAfcG5O"
      }
    },
    {
      "cell_type": "markdown",
      "source": [
        "For $\\bar{a}  = \\begin{bmatrix} a_1 \\\\ a_2 \\\\ . \\\\ . \\\\ . \\\\ a_n \\end{bmatrix}$ and $\\bar{b}  = \\begin{bmatrix} b_1 \\\\ b_2 \\\\ . \\\\ . \\\\ . \\\\ b_n \\end{bmatrix}$,\n",
        "\n",
        "\\\\\n",
        "\n",
        "\n",
        "$<\\bar{a}, \\bar{b}> = \\bar{a}\\cdot\\bar{b} = \\bar{a}^T\\bar{b} = \\sum_{i=1}^{n} a_i * b_i$\n",
        "\n",
        "\\\\\n",
        "\n",
        "Then if, $\\bar{a}  = \\begin{bmatrix} 1 \\\\ 2 \\\\ 3 \\end{bmatrix}$ and $\\bar{b}  = \\begin{bmatrix} 4 \\\\ 5 \\\\ 6 \\end{bmatrix}$,\n",
        "\n",
        "$<\\bar{a}, \\bar{b}> = 1*4 + 2*5 + 3*6 = 32$"
      ],
      "metadata": {
        "id": "nrV44cweYtmB"
      }
    },
    {
      "cell_type": "markdown",
      "source": [
        "We will implement this using $\\bar{A}^T\\bar{B}$ to find the dot product first. In NumPy, transpose can be taken on a vector or a matrix by doing `array.T`. However, for compression, NumPy squeezes axes with dim = 1. Hence taking transpose over these vectors don't change anything. For example -"
      ],
      "metadata": {
        "id": "UC0WEw79arvG"
      }
    },
    {
      "cell_type": "code",
      "source": [
        "a = np.array([1, 2, 3])\n",
        "\n",
        "print(a.shape)\n",
        "print(a.T.shape)"
      ],
      "metadata": {
        "id": "kftJ-Haatgbz",
        "colab": {
          "base_uri": "https://localhost:8080/"
        },
        "outputId": "1aba585d-265b-4200-a197-413b8a55a286"
      },
      "execution_count": 7,
      "outputs": [
        {
          "output_type": "stream",
          "name": "stdout",
          "text": [
            "(3,)\n",
            "(3,)\n"
          ]
        }
      ]
    },
    {
      "cell_type": "markdown",
      "source": [
        "So, instead, use `array.reshape()` to get the desired dimensionality -"
      ],
      "metadata": {
        "id": "QDUFwgR_uNxm"
      }
    },
    {
      "cell_type": "code",
      "source": [
        "a = np.array([1, 2, 3])\n",
        "b = np.array([4, 5, 6])\n",
        "\n",
        "print(a.reshape(1,3)@b.reshape(3,1))"
      ],
      "metadata": {
        "id": "CV2_0MgEYfup",
        "colab": {
          "base_uri": "https://localhost:8080/"
        },
        "outputId": "e7dc47f4-b041-4134-d4d4-eb47573fafa1"
      },
      "execution_count": 8,
      "outputs": [
        {
          "output_type": "stream",
          "name": "stdout",
          "text": [
            "[[32]]\n"
          ]
        }
      ]
    },
    {
      "cell_type": "markdown",
      "source": [
        "There is one elegant way to do the same thing - using the `np.inner()` function."
      ],
      "metadata": {
        "id": "y8khP1FObjq3"
      }
    },
    {
      "cell_type": "code",
      "source": [
        "d = np.array([1, 2, 3])\n",
        "e = np.array([4, 5, 6])"
      ],
      "metadata": {
        "id": "Zbj7MZqVOeY9"
      },
      "execution_count": 10,
      "outputs": []
    },
    {
      "cell_type": "code",
      "source": [
        "print(np.inner(d, e))"
      ],
      "metadata": {
        "id": "GILWfBabYnmD",
        "colab": {
          "base_uri": "https://localhost:8080/"
        },
        "outputId": "325feeec-e77c-497c-e868-2bd928049f30"
      },
      "execution_count": 11,
      "outputs": [
        {
          "output_type": "stream",
          "name": "stdout",
          "text": [
            "32\n"
          ]
        }
      ]
    },
    {
      "cell_type": "markdown",
      "source": [
        "We will not use the summation method for inner product."
      ],
      "metadata": {
        "id": "Aw0mNBrUb1sa"
      }
    },
    {
      "cell_type": "markdown",
      "source": [
        "### Verification of inner product properties"
      ],
      "metadata": {
        "id": "3S_UqqDFcJ4q"
      }
    },
    {
      "cell_type": "markdown",
      "source": [
        "We will verify 3 inner product properties -\n",
        "\n",
        "1.   $<\\bar{x}, \\bar{y} + \\bar{z}> = <\\bar{x}, \\bar{y}> + <\\bar{x}, \\bar{z}>$\n",
        "2.   $<\\bar{x}, \\bar{y}> = <\\bar{y}, \\bar{x}>$\n",
        "3.   $<\\lambda \\bar{x}, \\bar{y}> = \\lambda <\\bar{x}, \\bar{y}>$\n",
        "\n",
        "First one is done for you. Do the rest two."
      ],
      "metadata": {
        "id": "GYDF9DtFcQa3"
      }
    },
    {
      "cell_type": "code",
      "source": [
        "# property 1\n",
        "\n",
        "# use random 3D vectors\n",
        "x = np.random.randint(10, size=(3))\n",
        "y = np.random.randint(10, size=(3))\n",
        "z = np.random.randint(10, size=(3))\n",
        "\n",
        "print(\"x ->\", x)\n",
        "print(\"y ->\", y)\n",
        "print(\"z ->\", z)\n",
        "\n",
        "print(\"\\ninner(x, y + z) -> \", np.inner(x, y+z))\n",
        "print(\"inner(x, y) + inner(x, z) -> \", np.inner(x, y) + np.inner(x, z))\n",
        "\n",
        "print(\"\\nEquality test -> \", np.inner(x, y+z) == np.inner(x, y) + np.inner(x, z))"
      ],
      "metadata": {
        "id": "5QS98QhQW_UR",
        "colab": {
          "base_uri": "https://localhost:8080/"
        },
        "outputId": "576f60df-33d1-4e68-b492-1ebbd2d8ee6e"
      },
      "execution_count": 12,
      "outputs": [
        {
          "output_type": "stream",
          "name": "stdout",
          "text": [
            "x -> [8 9 7]\n",
            "y -> [3 5 1]\n",
            "z -> [0 7 4]\n",
            "\n",
            "inner(x, y + z) ->  167\n",
            "inner(x, y) + inner(x, z) ->  167\n",
            "\n",
            "Equality test ->  True\n"
          ]
        }
      ]
    },
    {
      "cell_type": "code",
      "source": [
        "# property 2\n",
        "\n",
        "# use random 3D vectors\n",
        "# replace the None with your code\n",
        "x = np.random.randint(10, size=(3))\n",
        "y = np.random.randint(10, size=(3))\n",
        "\n",
        "print(\"x ->\", x)\n",
        "print(\"y ->\", y)\n",
        "\n",
        "print(\"\\ninner(x, y) -> \", np.inner(x,y))\n",
        "print(\"inner(y, x) -> \", np.inner(y,x))\n",
        "\n",
        "print(\"\\nEquality test -> \", np.inner(x,y)==np.inner(y,x))"
      ],
      "metadata": {
        "id": "KqLsN_iljWBu",
        "colab": {
          "base_uri": "https://localhost:8080/"
        },
        "outputId": "99f9334b-2704-4ced-a19a-872f9914303d"
      },
      "execution_count": 14,
      "outputs": [
        {
          "output_type": "stream",
          "name": "stdout",
          "text": [
            "x -> [4 5 7]\n",
            "y -> [7 7 0]\n",
            "\n",
            "inner(x, y) ->  63\n",
            "inner(y, x) ->  63\n",
            "\n",
            "Equality test ->  True\n"
          ]
        }
      ]
    },
    {
      "cell_type": "code",
      "source": [
        "# property 3\n",
        "\n",
        "# use random 3D vectors\n",
        "# replace the None with your code\n",
        "x = np.random.randint(10, size=(3))\n",
        "y = np.random.randint(10, size=(3))\n",
        "\n",
        "# use random 1D scalar\n",
        "scalar = np.random.randint(10)\n",
        "\n",
        "print(\"x ->\", x)\n",
        "print(\"y ->\", y)\n",
        "print(\"scalar ->\", scalar)\n",
        "\n",
        "print(\"\\ninner(scalar*x, y) -> \", np.inner(scalar*x, y))\n",
        "print(\"scalar*inner(y, x) -> \", np.inner(scalar, np.inner(x, y)))\n",
        "\n",
        "print(\"\\nEquality test -> \", np.inner(scalar*x, y)==np.inner(scalar, np.inner(x, y)))"
      ],
      "metadata": {
        "id": "AnV-5etjj-nI",
        "colab": {
          "base_uri": "https://localhost:8080/"
        },
        "outputId": "1ca22d9e-de73-41d6-8210-8a30a42c75d1"
      },
      "execution_count": 15,
      "outputs": [
        {
          "output_type": "stream",
          "name": "stdout",
          "text": [
            "x -> [9 5 4]\n",
            "y -> [3 1 4]\n",
            "scalar -> 5\n",
            "\n",
            "inner(scalar*x, y) ->  240\n",
            "scalar*inner(y, x) ->  240\n",
            "\n",
            "Equality test ->  True\n"
          ]
        }
      ]
    },
    {
      "cell_type": "markdown",
      "source": [
        "## Outer product / Cross product"
      ],
      "metadata": {
        "id": "k-rhKATOkhn1"
      }
    },
    {
      "cell_type": "markdown",
      "source": [
        "For $\\bar{a}  = \\begin{bmatrix} a_1 \\\\ a_2 \\\\ . \\\\ . \\\\ . \\\\ a_m \\end{bmatrix}$ and $\\bar{b}  = \\begin{bmatrix} b_1 \\\\ b_2 \\\\ . \\\\ . \\\\ . \\\\ b_n \\end{bmatrix}$,\n",
        "\n",
        "\\\\\n",
        "\n",
        "\n",
        "$|\\bar{a}>< \\bar{b}| = \\bar{a}\\otimes\\bar{b} = \\bar{a}\\bar{b}^T = \\begin{bmatrix}\n",
        "a_1 b_1 & a_1 b_2 & \\cdots & a_1 b_n \\\\\n",
        "a_2 b_1 & a_2 b_2 & \\cdots & a_2 b_n \\\\\n",
        "\\vdots & \\vdots & \\ddots & \\vdots \\\\\n",
        "a_m b_1 & a_m b_2 & \\cdots & a_m b_n\n",
        "\\end{bmatrix}\n",
        "$\n",
        "\n",
        "\\\\\n",
        "\n",
        "Then if, $\\bar{a}  = \\begin{bmatrix} 1 \\\\ 2 \\\\ 3 \\end{bmatrix}$ and $\\bar{b}  = \\begin{bmatrix} 4 \\\\ 5 \\\\ 6 \\end{bmatrix}$,\n",
        "\n",
        "\\\\\n",
        "\n",
        "$\\bar{a}\\otimes\\bar{b} = \\begin{bmatrix}\n",
        "1*4 & 1*5 & 1*6 \\\\\n",
        "2*4 & 2*5 & 2*6 \\\\\n",
        "3*4 & 3*5 & 3*6 \\\\\n",
        "\\end{bmatrix} = \\begin{bmatrix}\n",
        "4 & 5 & 6 \\\\\n",
        "8 & 10 & 12 \\\\\n",
        "12 & 15 & 18 \\\\\n",
        "\\end{bmatrix}$"
      ],
      "metadata": {
        "id": "Qf5FFUR0parl"
      }
    },
    {
      "cell_type": "markdown",
      "source": [
        "At first lets find the outer product using $\\bar{a}\\bar{b}^T$ -"
      ],
      "metadata": {
        "id": "qrSxftxiuqkL"
      }
    },
    {
      "cell_type": "code",
      "source": [
        "a = np.array([1, 2, 3])\n",
        "b = np.array([4, 5, 6])\n",
        "\n",
        "print(a.reshape(3,1)@b.reshape(1, 3))"
      ],
      "metadata": {
        "id": "TvQOdSOmsITr",
        "colab": {
          "base_uri": "https://localhost:8080/"
        },
        "outputId": "041bfa21-4e1a-4c22-ba03-0facba340d40"
      },
      "execution_count": 16,
      "outputs": [
        {
          "output_type": "stream",
          "name": "stdout",
          "text": [
            "[[ 4  5  6]\n",
            " [ 8 10 12]\n",
            " [12 15 18]]\n"
          ]
        }
      ]
    },
    {
      "cell_type": "markdown",
      "source": [
        "Now lets use the `np.outer()` function -"
      ],
      "metadata": {
        "id": "tTCEoLZMu1Or"
      }
    },
    {
      "cell_type": "code",
      "source": [
        "print(np.outer(a,b))"
      ],
      "metadata": {
        "id": "Gz54QDhru587",
        "colab": {
          "base_uri": "https://localhost:8080/"
        },
        "outputId": "40d705c0-5e06-476d-a5d9-69df256395c8"
      },
      "execution_count": 17,
      "outputs": [
        {
          "output_type": "stream",
          "name": "stdout",
          "text": [
            "[[ 4  5  6]\n",
            " [ 8 10 12]\n",
            " [12 15 18]]\n"
          ]
        }
      ]
    },
    {
      "cell_type": "markdown",
      "source": [
        "### Verification of outer product properties"
      ],
      "metadata": {
        "id": "zzwGg2Qbv8ip"
      }
    },
    {
      "cell_type": "markdown",
      "source": [
        "We will verify 3 properties -\n",
        "\n",
        "1.   $(\\bar{x} \\otimes \\bar{y})^T = \\bar{y} \\otimes \\bar{x}$\n",
        "2.   $(\\bar{x} + \\bar{y}) \\otimes \\bar{z} = \\bar{x}\\otimes \\bar{z} + \\bar{y}\\otimes \\bar{z}$\n",
        "3.   $\\bar{x}\\otimes (\\bar{y} + \\bar{z}) = \\bar{x}\\otimes \\bar{y} + \\bar{x} \\otimes \\bar{z}$\n",
        "\n",
        "First one is done for you. Do the rest two."
      ],
      "metadata": {
        "id": "kx0o8DlIyUyr"
      }
    },
    {
      "cell_type": "code",
      "source": [
        "# property 1\n",
        "\n",
        "# use random 3D vectors\n",
        "x = np.random.randint(10, size=(3))\n",
        "y = np.random.randint(10, size=(3))\n",
        "\n",
        "print(\"x ->\", x)\n",
        "print(\"y ->\", y)\n",
        "\n",
        "print(\"\\nouter(x,y)^T -> \", np.outer(x, y).T)\n",
        "print(\"outer(y,x) -> \", np.outer(y, x))\n",
        "\n",
        "print(\"\\nEquality test -> \", (np.outer(x, y).T == np.outer(y, x)).all())"
      ],
      "metadata": {
        "id": "bbtV5vUjyUJs",
        "colab": {
          "base_uri": "https://localhost:8080/"
        },
        "outputId": "f9b5a03e-a45a-4461-ef49-d58fbee6fb0c"
      },
      "execution_count": 18,
      "outputs": [
        {
          "output_type": "stream",
          "name": "stdout",
          "text": [
            "x -> [3 0 7]\n",
            "y -> [0 6 2]\n",
            "\n",
            "outer(x,y)^T ->  [[ 0  0  0]\n",
            " [18  0 42]\n",
            " [ 6  0 14]]\n",
            "outer(y,x) ->  [[ 0  0  0]\n",
            " [18  0 42]\n",
            " [ 6  0 14]]\n",
            "\n",
            "Equality test ->  True\n"
          ]
        }
      ]
    },
    {
      "cell_type": "code",
      "source": [
        "# property 2\n",
        "\n",
        "# use random 3D vectors\n",
        "# replace the None with your code\n",
        "x = np.random.randint(10, size=(3))\n",
        "y = np.random.randint(10, size=(3))\n",
        "z = np.random.randint(10, size=(3))\n",
        "\n",
        "print(\"x ->\", x)\n",
        "print(\"y ->\", y)\n",
        "print(\"z ->\", z)\n",
        "\n",
        "print(\"\\nouter(x + y, z) -> \", np.outer(x+y, z))\n",
        "print(\"outer(x, z) + outer(y, z) -> \", np.outer(x, z) + np.outer(y, z))\n",
        "\n",
        "\n",
        "\n",
        "#remember to use the .all() function\n",
        "print(\"\\nEquality test -> \", (np.outer(x+y, z)==np.outer(x, z) + np.outer(y, z)).all())"
      ],
      "metadata": {
        "id": "VwdkOFbl0ZGL",
        "colab": {
          "base_uri": "https://localhost:8080/"
        },
        "outputId": "54fa1906-e4b1-4b0a-9436-27ae4a49ddf9"
      },
      "execution_count": 22,
      "outputs": [
        {
          "output_type": "stream",
          "name": "stdout",
          "text": [
            "x -> [5 8 3]\n",
            "y -> [3 0 3]\n",
            "z -> [3 1 1]\n",
            "\n",
            "outer(x + y, z) ->  [[24  8  8]\n",
            " [24  8  8]\n",
            " [18  6  6]]\n",
            "outer(x, z) + outer(y, z) ->  [[24  8  8]\n",
            " [24  8  8]\n",
            " [18  6  6]]\n",
            "\n",
            "Equality test ->  True\n"
          ]
        }
      ]
    },
    {
      "cell_type": "code",
      "source": [
        "# property 3\n",
        "\n",
        "# use random 3D vectors\n",
        "# replace the None with your code\n",
        "x = np.random.randint(10, size=(3))\n",
        "y = np.random.randint(10, size=(3))\n",
        "z = np.random.randint(10, size=(3))\n",
        "\n",
        "print(\"x ->\", x)\n",
        "print(\"y ->\", y)\n",
        "print(\"z ->\", z)\n",
        "\n",
        "print(\"\\nouter(x, y + z) -> \", np.outer(x, y+z))\n",
        "print(\"outer(x, y) + outer(x, z) -> \", np.outer(x, y) + np.outer(x, z))\n",
        "\n",
        "#remember to use the .all() function\n",
        "print(\"\\nEquality test -> \", (np.outer(x, y+z)==np.outer(x, y) + np.outer(x, z)).all())"
      ],
      "metadata": {
        "id": "RMmKNorb004E",
        "colab": {
          "base_uri": "https://localhost:8080/"
        },
        "outputId": "4ccb0d58-9292-4f77-ee7a-9c583b6e4f62"
      },
      "execution_count": 23,
      "outputs": [
        {
          "output_type": "stream",
          "name": "stdout",
          "text": [
            "x -> [0 0 1]\n",
            "y -> [5 1 7]\n",
            "z -> [8 4 9]\n",
            "\n",
            "outer(x, y + z) ->  [[ 0  0  0]\n",
            " [ 0  0  0]\n",
            " [13  5 16]]\n",
            "outer(x, y) + outer(x, z) ->  [[ 0  0  0]\n",
            " [ 0  0  0]\n",
            " [13  5 16]]\n",
            "\n",
            "Equality test ->  True\n"
          ]
        }
      ]
    },
    {
      "cell_type": "markdown",
      "source": [
        "### Matrix multiplication reparameterization using outer product"
      ],
      "metadata": {
        "id": "E9rE97Elwu49"
      }
    },
    {
      "cell_type": "markdown",
      "source": [
        "If $A_{N \\times M}$ and $B_{M \\times K}$ are two matrices,\n",
        "\n",
        "$A\\cdot B = \\begin{bmatrix} [A_1^c] & [A_2^c] & \\cdots & [A_M^c] \\end{bmatrix} \\cdot \\begin{bmatrix} [B_1^r] \\\\ [_B2^r] \\\\ \\vdots \\\\ [B_M^r] \\end{bmatrix} = \\sum_{i=1}^{M} [A_i^c]\\otimes [B_i^r]$\n",
        "\n",
        "You can manually prove it by working on it a bit. Let us verify it out with random matrices."
      ],
      "metadata": {
        "id": "3EBzhXe2xmzu"
      }
    },
    {
      "cell_type": "code",
      "source": [
        "n = 3\n",
        "m = 2\n",
        "k = 4\n",
        "\n",
        "a = np.random.randint(25, size = (n, m))\n",
        "b = np.random.randint(25, size = (m, k))\n",
        "\n",
        "print(\"a ->\\n\", a)\n",
        "print(\"\\nb ->\\n\", b)\n",
        "\n",
        "c_original = a@b\n",
        "\n",
        "print(\"\\nDirect multiplication ->\\n\", c_original)\n",
        "\n",
        "c_test = np.zeros_like(c_original)\n",
        "\n",
        "for i in range(m):\n",
        "    c_test += np.outer(a[:, i], b[i, :])\n",
        "\n",
        "print(\"\\nReparameterized multiplication ->\\n\", c_test)\n",
        "\n",
        "print(\"\\nTest case same? -> \", (c_original == c_test).all())"
      ],
      "metadata": {
        "id": "PRBlPIVBvnWC",
        "colab": {
          "base_uri": "https://localhost:8080/"
        },
        "outputId": "93689184-3323-4a9a-9a21-ab67004d3831"
      },
      "execution_count": 24,
      "outputs": [
        {
          "output_type": "stream",
          "name": "stdout",
          "text": [
            "a ->\n",
            " [[22 21]\n",
            " [11  7]\n",
            " [ 3 20]]\n",
            "\n",
            "b ->\n",
            " [[10 23 16 10]\n",
            " [ 2 17 22 19]]\n",
            "\n",
            "Direct multiplication ->\n",
            " [[262 863 814 619]\n",
            " [124 372 330 243]\n",
            " [ 70 409 488 410]]\n",
            "\n",
            "Reparameterized multiplication ->\n",
            " [[262 863 814 619]\n",
            " [124 372 330 243]\n",
            " [ 70 409 488 410]]\n",
            "\n",
            "Test case same? ->  True\n"
          ]
        }
      ]
    },
    {
      "cell_type": "markdown",
      "source": [
        "## Norm of a vector"
      ],
      "metadata": {
        "id": "bJgbfEi91B8p"
      }
    },
    {
      "cell_type": "markdown",
      "source": [
        "NumPy has a direct function to find out the norm of a vector - `np.linalg.norm()`. The function takes an `order` argument that decides which norm to find out. Lets take a random vector and figure out a range of norms."
      ],
      "metadata": {
        "id": "an1ZUWjK1xFf"
      }
    },
    {
      "cell_type": "code",
      "source": [
        "p = np.linspace(0.5, 5, 100)\n",
        "\n",
        "norms = np.zeros_like(p)\n",
        "a = np.random.randint(10, size=(2))\n",
        "\n",
        "for i in range(len(p)):\n",
        "    norms[i] = np.linalg.norm(a, ord=p[i])"
      ],
      "metadata": {
        "id": "1Ehcl-P83ZsU"
      },
      "execution_count": 26,
      "outputs": []
    },
    {
      "cell_type": "markdown",
      "source": [
        "Now lets visualize the norms in a plot -"
      ],
      "metadata": {
        "id": "popZkJrp386k"
      }
    },
    {
      "cell_type": "code",
      "source": [
        "import matplotlib.pyplot as plt\n",
        "\n",
        "plt.plot(p, norms)\n",
        "plt.grid(True)\n",
        "plt.xlabel(\"p value\")\n",
        "plt.ylabel(\"Norm value\")\n",
        "plt.show();"
      ],
      "metadata": {
        "id": "Ob4i1SQN4ATZ",
        "colab": {
          "base_uri": "https://localhost:8080/",
          "height": 449
        },
        "outputId": "cc09b667-ae2e-4efe-babd-6ac067965e0e"
      },
      "execution_count": 27,
      "outputs": [
        {
          "output_type": "display_data",
          "data": {
            "text/plain": [
              "<Figure size 640x480 with 1 Axes>"
            ],
            "image/png": "[encoded data removed]"
          },
          "metadata": {}
        }
      ]
    },
    {
      "cell_type": "markdown",
      "source": [
        "So, it can be seen that higher the norm order, lower the norm values for a static vector. It then implies that to maintain an equal norm across an increasing order, the vector size has to increase -"
      ],
      "metadata": {
        "id": "3KDF0fgoHlnl"
      }
    },
    {
      "cell_type": "code",
      "source": [
        "# Values of p to visualize\n",
        "p_values = [0.75, 1, 1.5, 2, 5, 10, 50, np.inf]\n",
        "theta = np.linspace(0, 2*np.pi, 10000)\n",
        "\n",
        "def lp_unit_circle(p):\n",
        "    # Generate points on the unit Lp norm \"circle\"\n",
        "    x = np.cos(theta)\n",
        "    y = np.sin(theta)\n",
        "    norm = np.linalg.norm(np.array([x,y]), axis = 0, ord=p)\n",
        "    return x / norm, y / norm\n",
        "\n",
        "plt.figure(figsize=(6, 6))\n",
        "\n",
        "for p in p_values:\n",
        "    x, y = lp_unit_circle(p)\n",
        "    plt.plot(x, y, label=fr'$p={p}$')\n",
        "\n",
        "plt.gca().set_aspect('equal')\n",
        "plt.title(r'$p$-Norm Unit Balls in $\\mathbb{R}^2$')\n",
        "plt.legend()\n",
        "plt.grid(True)\n",
        "plt.show()"
      ],
      "metadata": {
        "id": "KuoiSZPP_KXx",
        "colab": {
          "base_uri": "https://localhost:8080/",
          "height": 549
        },
        "outputId": "14832b4e-94c4-41f1-f87e-6027869587b3"
      },
      "execution_count": 28,
      "outputs": [
        {
          "output_type": "display_data",
          "data": {
            "text/plain": [
              "<Figure size 600x600 with 1 Axes>"
            ],
            "image/png": "[encoded data removed]"
          },
          "metadata": {}
        }
      ]
    },
    {
      "cell_type": "markdown",
      "source": [
        "So, what is going on in this implementation?\n",
        "\n",
        "We are basically drawing unit vectors for various norms. We know -\n",
        "\n",
        "$\\hat{u}_p = \\frac{\\bar{u}}{||u||_p}$\n",
        "\n",
        "We want our unit vectors to cover whole 360 degrees forming a circle in $p$-norm. Since, we are in $\\mathbb{R}^2$, we can break any random vector $\\bar{u}$ as -\n",
        "\n",
        "$\\bar{u} = \\begin{bmatrix} \\bar{x} \\\\ \\bar{y} \\end{bmatrix} = \\begin{bmatrix} ||\\bar{u}||_p\\cdot cos\\theta \\cdot \\hat{x}_p  \\\\ ||\\bar{u}||_p\\cdot sin\\theta \\cdot \\hat{y}_p \\end{bmatrix}$ where, $\\hat{x}_p$ and $\\hat{y}_p$ are unit vectors in x and y axis under $p$-norms.\n",
        "\n",
        "Then, $\\frac{\\bar{u}}{||\\bar{u}||_p} = \\begin{bmatrix} cos\\theta \\cdot \\hat{x}_p  \\\\ sin\\theta \\cdot \\hat{y}_p \\end{bmatrix} = \\hat{u}_p$\n",
        "\n",
        "Now this formulation allows us to rotate the unit vector 360 degrees and span the $p$-norm = 1 balls."
      ],
      "metadata": {
        "id": "4mF4WgxJH7dE"
      }
    },
    {
      "cell_type": "markdown",
      "source": [
        "### Triangle inequality of norms"
      ],
      "metadata": {
        "id": "VF2F0IlNnGGD"
      }
    },
    {
      "cell_type": "markdown",
      "source": [
        "Triangle inequality states that if $\\bar{a}$ and $\\bar{b}$ are two vectors, then -\n",
        "\n",
        "$||\\bar{a} + \\bar{b}|| \\le ||\\bar{a}|| + ||\\bar{b}||$\n",
        "\n",
        "Lets try it out with random vectors and random $p$ value."
      ],
      "metadata": {
        "id": "W5jo8pU-nM6M"
      }
    },
    {
      "cell_type": "code",
      "source": [
        "a = np.random.randint(10, size=(3))\n",
        "b = np.random.randint(10, size=(3))\n",
        "p = np.random.randint(10)\n",
        "\n",
        "print(\"a ->\", a)\n",
        "print(\"b ->\", b)\n",
        "print(\"p ->\", p)\n",
        "\n",
        "print(\"\\n||a + b|| -> \", np.linalg.norm(a+b, ord=p))\n",
        "print(\"||a|| + ||b|| -> \", np.linalg.norm(a, ord=p) + np.linalg.norm(b, ord=p))\n",
        "\n",
        "print(\"\\nTriangle inequality satisfied? -> \", np.linalg.norm(a+b, ord=p) <= np.linalg.norm(a, ord=p) + np.linalg.norm(b, ord=p))"
      ],
      "metadata": {
        "id": "oCd8sjvanLRo",
        "colab": {
          "base_uri": "https://localhost:8080/"
        },
        "outputId": "44268449-e905-4a0b-8cd1-dee90fd243e9"
      },
      "execution_count": 29,
      "outputs": [
        {
          "output_type": "stream",
          "name": "stdout",
          "text": [
            "a -> [9 3 5]\n",
            "b -> [3 1 8]\n",
            "p -> 7\n",
            "\n",
            "||a + b|| ->  13.866930713374375\n",
            "||a|| + ||b|| ->  17.02262681280756\n",
            "\n",
            "Triangle inequality satisfied? ->  True\n"
          ]
        }
      ]
    },
    {
      "cell_type": "markdown",
      "source": [
        "## Eigenvalues and eigenvectors"
      ],
      "metadata": {
        "id": "ux4Yl2HSkZ6f"
      }
    },
    {
      "cell_type": "markdown",
      "source": [
        "For this course it is important to find the eigenvalues and eigenvectors of matrices. We can do this simply using `np.linalg.eig()`. Lets define a symmetric matrix -\n",
        "\n",
        "$M = \\begin{bmatrix} 1 & 3 & 4 \\\\\n",
        "3 & 2 & 6 \\\\\n",
        "4 & 6 & 7\\end{bmatrix}$"
      ],
      "metadata": {
        "id": "Wo-A1yock9MQ"
      }
    },
    {
      "cell_type": "code",
      "source": [
        "m = np.array([[1, 3, 4],\n",
        "              [3, 2, 6],\n",
        "              [4, 6, 7]])\n",
        "\n",
        "eigvals, eigvecs = np.linalg.eig(m)"
      ],
      "metadata": {
        "id": "eKigSzipk7S1"
      },
      "execution_count": 30,
      "outputs": []
    },
    {
      "cell_type": "code",
      "source": [
        "for i in range(len(eigvals)):\n",
        "    print(\"Eigen value - \", eigvals[i])\n",
        "    print(\"Eigen vector - \", eigvecs[:,i])"
      ],
      "metadata": {
        "id": "UDv3u0TUl0a-",
        "colab": {
          "base_uri": "https://localhost:8080/"
        },
        "outputId": "1f4f5aa6-543f-427a-8d17-c779084c7ca6"
      },
      "execution_count": 31,
      "outputs": [
        {
          "output_type": "stream",
          "name": "stdout",
          "text": [
            "Eigen value -  13.066372975210776\n",
            "Eigen vector -  [0.38243601 0.51837582 0.76487202]\n",
            "Eigen value -  -0.9999999999999991\n",
            "Eigen vector -  [ 8.94427191e-01 -6.69010419e-16 -4.47213595e-01]\n",
            "Eigen value -  -2.0663729752107782\n",
            "Eigen vector -  [ 0.23182471 -0.85515292  0.46364943]\n"
          ]
        }
      ]
    },
    {
      "cell_type": "markdown",
      "source": [
        "It is to be noted that the algorithm used to find these eigenvalues and eigenvectors is a numerical algorithm and as such, they may not be equal to theoretical values, but they will be very close."
      ],
      "metadata": {
        "id": "o2FNVLUAmKNU"
      }
    },
    {
      "cell_type": "markdown",
      "source": [
        "We will use eigenvalues to test matrix definiteness. For a matrix $M$ having eigenvalues $λ = [λ_1, λ_2, . . ., λ_n]$, iff -\n",
        "\n",
        "1.  $∀λ \\in \\mathbb{R_{++}}, M \\succ 0$ [Positive definite]\n",
        "2.  $∀λ \\in \\mathbb{R_{+}}, M \\succeq 0$ [Positive semi-definite]\n",
        "3.  $∃λ_i \\in \\mathbb{R_{++}}$ and $∃λ_j \\in \\mathbb{R_{--}}$ such that $λ_i \\neq λ_j$, then $M$ is indefinite\n",
        "4.  $∀λ \\in \\mathbb{R_{-}}, M \\preccurlyeq 0$ [Negative semi-definite]\n",
        "5.  $∀λ \\in \\mathbb{R_{--}}, M \\prec 0$ [Negative definite]"
      ],
      "metadata": {
        "id": "XaQDXlv1pRwN"
      }
    },
    {
      "cell_type": "markdown",
      "source": [
        "What is type of matrix is the given symmetric matrix?\n",
        "\n",
        "*Answer -*"
      ],
      "metadata": {
        "id": "gcEi5Vl3tgmA"
      }
    },
    {
      "cell_type": "markdown",
      "source": [
        "For a symmetric matrix, the eigenvectors should be orthogonal if the eigenvalues are distinct. Lets verify this theory now for any two random eigenvectors -"
      ],
      "metadata": {
        "id": "0EEhC5nFE_Xd"
      }
    },
    {
      "cell_type": "code",
      "source": [
        "ind_a, ind_b = np.random.choice(np.arange(eigvecs.shape[0]), size = 2, replace = False)\n",
        "\n",
        "a = eigvecs[ind_a]\n",
        "b = eigvecs[ind_b]\n",
        "\n",
        "print(np.inner(a,b))"
      ],
      "metadata": {
        "id": "POyqyBovFH3j",
        "colab": {
          "base_uri": "https://localhost:8080/"
        },
        "outputId": "1a41685e-710f-4d9a-8fd0-c25e48f831c3"
      },
      "execution_count": 32,
      "outputs": [
        {
          "output_type": "stream",
          "name": "stdout",
          "text": [
            "-4.163336342344337e-16\n"
          ]
        }
      ]
    },
    {
      "cell_type": "markdown",
      "source": [
        "Although the value is not exactly 0, but it is very close to 0. And so we can assume these 2 vectors to be orthogonal.\n",
        "\n",
        "You can try out other combinations as well."
      ],
      "metadata": {
        "id": "GSl_HoeFHFaj"
      }
    },
    {
      "cell_type": "markdown",
      "source": [
        "Now take a random symmetric matrix prepared from your ID and mention what type of matrix it is in terms of definiteness."
      ],
      "metadata": {
        "id": "Ho9wRX3CvJXZ"
      }
    },
    {
      "cell_type": "code",
      "source": [
        "N = 10\n",
        "\n",
        "#enter your id in random.seed()\n",
        "np.random.seed(123)\n",
        "\n",
        "a = np.random.randint(-50,50,size=(N,N))\n",
        "your_mat = (a + a.T)//2\n",
        "\n",
        "print(your_mat)"
      ],
      "metadata": {
        "id": "5cEZH63lDO0e",
        "colab": {
          "base_uri": "https://localhost:8080/"
        },
        "outputId": "a856ad88-e1ae-4519-f458-a24e78a0b92b"
      },
      "execution_count": 33,
      "outputs": [
        {
          "output_type": "stream",
          "name": "stdout",
          "text": [
            "[[ 16  32  33 -11   8 -17  33  11  20  18]\n",
            " [ 32 -18  -3  22  11   2  -8  -7  22  39]\n",
            " [ 33  -3   5 -13 -11  30 -24  25  20 -25]\n",
            " [-11  22 -13  49  16 -15  36  20  42 -31]\n",
            " [  8  11 -11  16 -47  -8   9  12  -9 -20]\n",
            " [-17   2  30 -15  -8 -23   0 -18  28  10]\n",
            " [ 33  -8 -24  36   9   0 -49 -20 -20 -20]\n",
            " [ 11  -7  25  20  12 -18 -20  31 -16 -20]\n",
            " [ 20  22  20  42  -9  28 -20 -16 -39   4]\n",
            " [ 18  39 -25 -31 -20  10 -20 -20   4 -36]]\n"
          ]
        }
      ]
    },
    {
      "cell_type": "code",
      "source": [
        "\n",
        "\n",
        "#finish the code\n",
        "eigvals, _ = None\n",
        "\n",
        "for i in range(len(eigvals)):\n",
        "    print(eigvals[i])"
      ],
      "metadata": {
        "id": "S-9OC4cJt5g7",
        "colab": {
          "base_uri": "https://localhost:8080/",
          "height": 211
        },
        "outputId": "d082fed6-fd48-43e2-f72b-1530b74026f5"
      },
      "execution_count": 35,
      "outputs": [
        {
          "output_type": "error",
          "ename": "TypeError",
          "evalue": "cannot unpack non-iterable NoneType object",
          "traceback": [
            "\u001b[0;31m---------------------------------------------------------------------------\u001b[0m",
            "\u001b[0;31mTypeError\u001b[0m                                 Traceback (most recent call last)",
            "\u001b[0;32m/tmp/ipython-input-35-2629242661.py\u001b[0m in \u001b[0;36m<cell line: 0>\u001b[0;34m()\u001b[0m\n\u001b[1;32m      1\u001b[0m \u001b[0;31m#finish the code\u001b[0m\u001b[0;34m\u001b[0m\u001b[0;34m\u001b[0m\u001b[0m\n\u001b[0;32m----> 2\u001b[0;31m \u001b[0meigvals\u001b[0m\u001b[0;34m,\u001b[0m \u001b[0m_\u001b[0m \u001b[0;34m=\u001b[0m \u001b[0;32mNone\u001b[0m\u001b[0;34m\u001b[0m\u001b[0;34m\u001b[0m\u001b[0m\n\u001b[0m\u001b[1;32m      3\u001b[0m \u001b[0;34m\u001b[0m\u001b[0m\n\u001b[1;32m      4\u001b[0m \u001b[0;32mfor\u001b[0m \u001b[0mi\u001b[0m \u001b[0;32min\u001b[0m \u001b[0mrange\u001b[0m\u001b[0;34m(\u001b[0m\u001b[0mlen\u001b[0m\u001b[0;34m(\u001b[0m\u001b[0meigvals\u001b[0m\u001b[0;34m)\u001b[0m\u001b[0;34m)\u001b[0m\u001b[0;34m:\u001b[0m\u001b[0;34m\u001b[0m\u001b[0;34m\u001b[0m\u001b[0m\n\u001b[1;32m      5\u001b[0m     \u001b[0mprint\u001b[0m\u001b[0;34m(\u001b[0m\u001b[0meigvals\u001b[0m\u001b[0;34m[\u001b[0m\u001b[0mi\u001b[0m\u001b[0;34m]\u001b[0m\u001b[0;34m)\u001b[0m\u001b[0;34m\u001b[0m\u001b[0;34m\u001b[0m\u001b[0m\n",
            "\u001b[0;31mTypeError\u001b[0m: cannot unpack non-iterable NoneType object"
          ]
        }
      ]
    },
    {
      "cell_type": "markdown",
      "source": [
        "By visual inspection, write the type of matrix -\n",
        "\n",
        "*Answer -*"
      ],
      "metadata": {
        "id": "JRNrL9cRu7-W"
      }
    },
    {
      "cell_type": "code",
      "source": [
        "### write a code to automate the process\n",
        "### assume your input will always be a symmetric matrix (real eigenvalues)\n",
        "### test your code using your matrix\n",
        "\n",
        "\n",
        "### code ends"
      ],
      "metadata": {
        "id": "Vg1Eb5r5vWNg"
      },
      "execution_count": null,
      "outputs": []
    }
  ]
}